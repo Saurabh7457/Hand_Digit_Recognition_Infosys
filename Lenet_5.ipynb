{
 "cells": [
  {
   "cell_type": "markdown",
   "metadata": {},
   "source": [
    "LeNet-5 Architecture\n",
    "Input Layer:\n",
    "\n",
    "Accepts grayscale images of size 32x32 pixels.\n",
    "MNIST images (28x28) are resized to fit.\n",
    "Convolutional Layer 1 (C1):\n",
    "\n",
    "6 filters of size 5x5 applied with a stride of 1.\n",
    "Output size: 28x28x6 (6 feature maps).\n",
    "Subsampling Layer 1 (S2):\n",
    "\n",
    "Average pooling with a 2x2 kernel and stride of 2.\n",
    "Output size: 14x14x6 (reduces spatial dimensions).\n",
    "Convolutional Layer 2 (C3):\n",
    "\n",
    "16 filters of size 5x5, connected selectively to previous layer maps.\n",
    "Output size: 10x10x16.\n",
    "Subsampling Layer 2 (S4):\n",
    "\n",
    "Another average pooling layer with a 2x2 kernel.\n",
    "Output size: 5x5x16.\n",
    "Fully Connected Layer 1 (F5):\n",
    "\n",
    "Input from previous layer flattened to 1D.\n",
    "120 neurons.\n",
    "Fully Connected Layer 2 (Output Layer):\n",
    "\n",
    "84 neurons in a dense layer, connected to 10 output neurons (one per digit class).\n",
    "Key Point\n",
    "Uses tanh activation instead of ReLU.\n"
   ]
  },
  {
   "cell_type": "markdown",
   "metadata": {},
   "source": []
  },
  {
   "cell_type": "code",
   "execution_count": 1,
   "metadata": {},
   "outputs": [],
   "source": [
    "def build_lenet(input_shape):\n",
    "  # Define Sequential Model\n",
    "  model = tf.keras.Sequential()\n",
    "  \n",
    "  # C1 Convolution Layer\n",
    "  model.add(tf.keras.layers.Conv2D(filters=6, strides=(1,1), kernel_size=(5,5), activation='tanh', input_shape=input_shape))\n",
    "  \n",
    "  # S2 SubSampling Layer\n",
    "  model.add(tf.keras.layers.AveragePooling2D(pool_size=(2,2), strides=(2,2)))\n",
    "\n",
    "  # C3 Convolution Layer\n",
    "  model.add(tf.keras.layers.Conv2D(filters=6, strides=(1,1), kernel_size=(5,5), activation='tanh'))\n",
    "\n",
    "  # S4 SubSampling Layer\n",
    "  model.add(tf.keras.layers.AveragePooling2D(pool_size=(2,2), strides=(2,2)))\n",
    "\n",
    "  # C5 Fully Connected Layer\n",
    "  model.add(tf.keras.layers.Dense(units=120, activation='tanh'))\n",
    "\n",
    "  # Flatten the output so that we can connect it with the fully connected layers by converting it into a 1D Array\n",
    "  model.add(tf.keras.layers.Flatten())\n",
    "\n",
    "  # FC6 Fully Connected Layers\n",
    "  model.add(tf.keras.layers.Dense(units=84, activation='tanh'))\n",
    "\n",
    "  # Output Layer\n",
    "  model.add(tf.keras.layers.Dense(units=10, activation='softmax'))\n",
    "\n",
    "  # Compile the Model\n",
    "  model.compile(loss='categorical_crossentropy', optimizer=tf.keras.optimizers.SGD(lr=0.1, momentum=0.0, decay=0.0), metrics=['accuracy'])\n",
    "\n",
    "  return model"
   ]
  },
  {
   "cell_type": "code",
   "execution_count": null,
   "metadata": {},
   "outputs": [],
   "source": []
  }
 ],
 "metadata": {
  "kernelspec": {
   "display_name": "Python 3",
   "language": "python",
   "name": "python3"
  },
  "language_info": {
   "codemirror_mode": {
    "name": "ipython",
    "version": 3
   },
   "file_extension": ".py",
   "mimetype": "text/x-python",
   "name": "python",
   "nbconvert_exporter": "python",
   "pygments_lexer": "ipython3",
   "version": "3.10.2"
  }
 },
 "nbformat": 4,
 "nbformat_minor": 2
}
