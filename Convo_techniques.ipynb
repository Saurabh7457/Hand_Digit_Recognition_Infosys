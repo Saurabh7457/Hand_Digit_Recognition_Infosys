{
 "cells": [
  {
   "cell_type": "code",
   "execution_count": 1,
   "metadata": {},
   "outputs": [],
   "source": [
    "import torch\n",
    "import torch.nn.functional as F"
   ]
  },
  {
   "cell_type": "code",
   "execution_count": 2,
   "metadata": {},
   "outputs": [
    {
     "name": "stdout",
     "output_type": "stream",
     "text": [
      "Input Tensor:\n",
      "tensor([[[[1., 1., 1., 0., 0., 0.],\n",
      "          [1., 1., 1., 0., 0., 0.],\n",
      "          [1., 1., 1., 0., 0., 0.],\n",
      "          [1., 1., 1., 0., 0., 0.],\n",
      "          [1., 1., 1., 0., 0., 0.],\n",
      "          [1., 1., 1., 0., 0., 0.]]]])\n"
     ]
    }
   ],
   "source": [
    "# Construct a 6x6 tensor: first 3 columns [0:3] filled with 1s, last 3 columns [3:6] filled with 0s\n",
    "input_tensor = torch.tensor([\n",
    "    [1, 1, 1, 0, 0, 0],\n",
    "    [1, 1, 1, 0, 0, 0],\n",
    "    [1, 1, 1, 0, 0, 0],\n",
    "    [1, 1, 1, 0, 0, 0],\n",
    "    [1, 1, 1, 0, 0, 0],\n",
    "    [1, 1, 1, 0, 0, 0]\n",
    "], dtype=torch.float32).unsqueeze(0).unsqueeze(0)  # Add batch and channel dimensions\n",
    "\n",
    "print(\"Input Tensor:\")\n",
    "print(input_tensor)"
   ]
  },
  {
   "cell_type": "code",
   "execution_count": 3,
   "metadata": {},
   "outputs": [
    {
     "name": "stdout",
     "output_type": "stream",
     "text": [
      "\n",
      "Kernel Tensor:\n",
      "tensor([[[[-1.,  0.,  1.],\n",
      "          [-1.,  0.,  1.],\n",
      "          [-1.,  0.,  1.]]]])\n"
     ]
    }
   ],
   "source": [
    "# Define a 3x3 kernel tensor for detecting vertical edges\n",
    "kernel = torch.tensor([\n",
    "    [-1, 0, 1],\n",
    "    [-1, 0, 1],\n",
    "    [-1, 0, 1]\n",
    "], dtype=torch.float32).unsqueeze(0).unsqueeze(0)  # Add channel and batch dimensions\n",
    "\n",
    "print(\"\\nKernel Tensor:\")\n",
    "print(kernel)"
   ]
  },
  {
   "cell_type": "code",
   "execution_count": 4,
   "metadata": {},
   "outputs": [],
   "source": [
    "#  Convolve with Strides\n",
    "def convolve_with_stride(input_tensor, kernel, stride):\n",
    "    # Perform convolution using F.conv2d\n",
    "    output = F.conv2d(input_tensor, kernel, stride=stride, padding=0)\n",
    "    return output"
   ]
  },
  {
   "cell_type": "code",
   "execution_count": 5,
   "metadata": {},
   "outputs": [
    {
     "name": "stdout",
     "output_type": "stream",
     "text": [
      "\n",
      "Output with Stride = 1:\n",
      "tensor([[[[ 0., -3., -3.,  0.],\n",
      "          [ 0., -3., -3.,  0.],\n",
      "          [ 0., -3., -3.,  0.],\n",
      "          [ 0., -3., -3.,  0.]]]])\n",
      "\n",
      "Output with Stride = 2:\n",
      "tensor([[[[ 0., -3.],\n",
      "          [ 0., -3.]]]])\n"
     ]
    }
   ],
   "source": [
    "# Perform convolution with different strides\n",
    "stride_1 = convolve_with_stride(input_tensor, kernel, stride=1)\n",
    "stride_2 = convolve_with_stride(input_tensor, kernel, stride=2)\n",
    "\n",
    "print(\"\\nOutput with Stride = 1:\")\n",
    "print(stride_1)\n",
    "\n",
    "print(\"\\nOutput with Stride = 2:\")\n",
    "print(stride_2)"
   ]
  },
  {
   "cell_type": "code",
   "execution_count": 6,
   "metadata": {},
   "outputs": [
    {
     "name": "stdout",
     "output_type": "stream",
     "text": [
      "\n",
      "Analysis:\n",
      "1. With Stride = 1: The output is dense, capturing all vertical edge changes.\n",
      "2. With Stride = 2: The output is sparse, as the kernel skips positions, reducing spatial resolution.\n"
     ]
    }
   ],
   "source": [
    "# Analyzing the output Output\n",
    "print(\"\\nAnalysis:\")\n",
    "print(\"1. With Stride = 1: The output is dense, capturing all vertical edge changes.\")\n",
    "print(\"2. With Stride = 2: The output is sparse, as the kernel skips positions, reducing spatial resolution.\")"
   ]
  },
  {
   "cell_type": "code",
   "execution_count": null,
   "metadata": {},
   "outputs": [],
   "source": [
    "#Tips and Best Practices\n",
    "#Padding:\n",
    "#Add padding to retain the original image dimensions if required:\n",
    "#python\n",
    "#F.conv2d(input_tensor, kernel, stride=1, padding=1)"
   ]
  }
 ],
 "metadata": {
  "kernelspec": {
   "display_name": "Python 3",
   "language": "python",
   "name": "python3"
  },
  "language_info": {
   "codemirror_mode": {
    "name": "ipython",
    "version": 3
   },
   "file_extension": ".py",
   "mimetype": "text/x-python",
   "name": "python",
   "nbconvert_exporter": "python",
   "pygments_lexer": "ipython3",
   "version": "3.10.2"
  }
 },
 "nbformat": 4,
 "nbformat_minor": 2
}
